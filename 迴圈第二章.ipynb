{
  "nbformat": 4,
  "nbformat_minor": 0,
  "metadata": {
    "colab": {
      "provenance": [],
      "authorship_tag": "ABX9TyPOtZdbuunAv7ZRLheA48xX",
      "include_colab_link": true
    },
    "kernelspec": {
      "name": "python3",
      "display_name": "Python 3"
    },
    "language_info": {
      "name": "python"
    }
  },
  "cells": [
    {
      "cell_type": "markdown",
      "metadata": {
        "id": "view-in-github",
        "colab_type": "text"
      },
      "source": [
        "<a href=\"https://colab.research.google.com/github/redsunny0918-stack/2025Tibame/blob/main/%E8%BF%B4%E5%9C%88%E7%AC%AC%E4%BA%8C%E7%AB%A0.ipynb\" target=\"_parent\"><img src=\"https://colab.research.google.com/assets/colab-badge.svg\" alt=\"Open In Colab\"/></a>"
      ]
    },
    {
      "cell_type": "code",
      "execution_count": null,
      "metadata": {
        "id": "dQGUDkOz7gCs",
        "colab": {
          "base_uri": "https://localhost:8080/"
        },
        "outputId": "9036b211-95f3-4221-e920-deba938ec475"
      },
      "outputs": [
        {
          "output_type": "stream",
          "name": "stdout",
          "text": [
            "1\n",
            "3\n",
            "6\n",
            "10\n",
            "15\n",
            "21\n",
            "28\n",
            "36\n",
            "45\n",
            "55\n",
            "!!! 55\n"
          ]
        }
      ],
      "source": [
        "# 1+2+3...+10\n",
        "total = 0\n",
        "i = 0\n",
        "while i < 10:\n",
        "  total = total + (i + 1)\n",
        "  print(total)\n",
        "  i = i + 1\n",
        "print(\"!!!\", total)\n",
        "\n"
      ]
    },
    {
      "cell_type": "code",
      "source": [
        "# 2 / 7 -> 0.2857142857\n",
        "a, b = 2, 7\n",
        "ans = \"0.\"\n",
        "i = 0\n",
        "while i < 10:\n",
        "  # 2 -> 20\n",
        "  a10 = a * 10\n",
        "  # 20 // 7\n",
        "  ans = ans + str(a10//b)\n",
        "  print(ans)\n",
        "  # 20 % 7\n",
        "  a = a10 % b\n",
        "  i = i + 1\n"
      ],
      "metadata": {
        "colab": {
          "base_uri": "https://localhost:8080/"
        },
        "id": "4C7LL1DD9uyQ",
        "outputId": "f261a6d6-f626-4a65-b2e0-bed11d83d3f8"
      },
      "execution_count": null,
      "outputs": [
        {
          "output_type": "stream",
          "name": "stdout",
          "text": [
            "0.2\n",
            "0.28\n",
            "0.285\n",
            "0.2857\n",
            "0.28571\n",
            "0.285714\n",
            "0.2857142\n",
            "0.28571428\n",
            "0.285714285\n",
            "0.2857142857\n"
          ]
        }
      ]
    },
    {
      "cell_type": "code",
      "source": [
        "x, y = 0, 0\n",
        "# x = -2, y = 0\n",
        "commands = \"ULLRDL\"\n",
        "i = 0\n",
        "while i < len(commands):\n",
        "  location = commands[i]\n",
        "  print(location)\n",
        "  if location == \"U\":\n",
        "    y = y + 1\n",
        "  elif location == \"D\":\n",
        "    y = y - 1\n",
        "  elif location == \"L\":\n",
        "    x = x - 1\n",
        "  elif location == \"R\":\n",
        "    x = x + 1\n",
        "  i = i + 1\n",
        "print(x,y)\n",
        "\n"
      ],
      "metadata": {
        "colab": {
          "base_uri": "https://localhost:8080/"
        },
        "id": "eWEyYLG1AyRR",
        "outputId": "92c941cc-d08a-4b12-a560-07f9f0efbb11"
      },
      "execution_count": null,
      "outputs": [
        {
          "output_type": "stream",
          "name": "stdout",
          "text": [
            "U\n",
            "L\n",
            "L\n",
            "R\n",
            "D\n",
            "L\n",
            "-2 0\n"
          ]
        }
      ]
    },
    {
      "cell_type": "markdown",
      "source": [
        "蒙地卡羅算面積"
      ],
      "metadata": {
        "id": "RNVc5dWP7QKx"
      }
    },
    {
      "cell_type": "code",
      "source": [
        "import random\n",
        "\n",
        "count = 0\n",
        "total = 10000000\n",
        "i = 0\n",
        "while i < total:\n",
        "  # 對於這次隨機(x, y)\n",
        "  x = random.uniform(-1, 1)\n",
        "  y = random.uniform(-1, 1)\n",
        "  #如果這座標在圓裡面， 累積次數增加1\n",
        "  if x ** 2 + y ** 2 <= 1:\n",
        "    count = count + 1\n",
        "  i = i + 1\n",
        "# 圓形裡面標記 / 全部標記 * 參照物面積\n",
        "ratio = count / total\n",
        "print(ratio * 4)\n"
      ],
      "metadata": {
        "id": "UxHo40ju7OPp",
        "colab": {
          "base_uri": "https://localhost:8080/"
        },
        "outputId": "362fa3de-02b3-4036-e625-ce729fc2a7f7"
      },
      "execution_count": null,
      "outputs": [
        {
          "output_type": "stream",
          "name": "stdout",
          "text": [
            "3.1415188\n"
          ]
        }
      ]
    },
    {
      "cell_type": "code",
      "source": [
        "student = {'name': 'John', 'age': 20, 'gender': 'male'}\n",
        "print(student)\n"
      ],
      "metadata": {
        "id": "LIrus_DOtXKu",
        "outputId": "7d963ada-5618-4bd1-f5c0-56ce24febd1d",
        "colab": {
          "base_uri": "https://localhost:8080/"
        }
      },
      "execution_count": null,
      "outputs": [
        {
          "output_type": "stream",
          "name": "stdout",
          "text": [
            "{'name': 'John', 'age': 20, 'gender': 'male'}\n"
          ]
        }
      ]
    }
  ]
}