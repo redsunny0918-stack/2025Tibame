{
  "nbformat": 4,
  "nbformat_minor": 0,
  "metadata": {
    "colab": {
      "provenance": [],
      "authorship_tag": "ABX9TyM0gPIIu2/MGbC/8C9mpWGD",
      "include_colab_link": true
    },
    "kernelspec": {
      "name": "python3",
      "display_name": "Python 3"
    },
    "language_info": {
      "name": "python"
    }
  },
  "cells": [
    {
      "cell_type": "markdown",
      "metadata": {
        "id": "view-in-github",
        "colab_type": "text"
      },
      "source": [
        "<a href=\"https://colab.research.google.com/github/redsunny0918-stack/2025Tibame/blob/main/%E8%BF%B4%E5%9C%88%E7%AC%AC%E4%B8%80%E7%AB%A0.ipynb\" target=\"_parent\"><img src=\"https://colab.research.google.com/assets/colab-badge.svg\" alt=\"Open In Colab\"/></a>"
      ]
    },
    {
      "cell_type": "code",
      "execution_count": null,
      "metadata": {
        "id": "uj01fcIxBFu5"
      },
      "outputs": [],
      "source": [
        "i = 0\n",
        "while i < 10:\n",
        "  #你要做的程式碼片段\n",
        "  i = i + 1\n"
      ]
    },
    {
      "cell_type": "code",
      "source": [
        "i = 0\n",
        "while i < 10:\n",
        "  print(i,\n",
        "     i+5,\n",
        "     87-i,\n",
        "     5*i+10,\n",
        "     87-3*i)\n",
        "  i = i + 1\n"
      ],
      "metadata": {
        "colab": {
          "base_uri": "https://localhost:8080/"
        },
        "id": "0x09jIhlDlO9",
        "outputId": "cb40a40e-c768-42e5-a704-28c3f74f43f6"
      },
      "execution_count": null,
      "outputs": [
        {
          "output_type": "stream",
          "name": "stdout",
          "text": [
            "0 5 87 10 87\n",
            "1 6 86 15 84\n",
            "2 7 85 20 81\n",
            "3 8 84 25 78\n",
            "4 9 83 30 75\n",
            "5 10 82 35 72\n",
            "6 11 81 40 69\n",
            "7 12 80 45 66\n",
            "8 13 79 50 63\n",
            "9 14 78 55 60\n"
          ]
        }
      ]
    },
    {
      "cell_type": "code",
      "source": [
        "i = 0\n",
        "while i < 10:\n",
        "  print(\"*\" * (i+1))\n",
        "  i = i + 1\n",
        "\n",
        "left, right = \" \", \"o\"\n",
        "layer = 10\n",
        "i = 0\n",
        "while i < layer:\n",
        "  lcount = layer - i -1\n",
        "  rcount = i + 1\n",
        "  print(left * lcount + right * rcount)\n",
        "  i = i + 1"
      ],
      "metadata": {
        "colab": {
          "base_uri": "https://localhost:8080/"
        },
        "id": "GdSuRc_HJFU7",
        "outputId": "ad28b083-b247-4028-972b-685a19f489a7"
      },
      "execution_count": null,
      "outputs": [
        {
          "output_type": "stream",
          "name": "stdout",
          "text": [
            "*\n",
            "**\n",
            "***\n",
            "****\n",
            "*****\n",
            "******\n",
            "*******\n",
            "********\n",
            "*********\n",
            "**********\n",
            "         o\n",
            "        oo\n",
            "       ooo\n",
            "      oooo\n",
            "     ooooo\n",
            "    oooooo\n",
            "   ooooooo\n",
            "  oooooooo\n",
            " ooooooooo\n",
            "oooooooooo\n"
          ]
        }
      ]
    },
    {
      "cell_type": "code",
      "source": [
        "layer = 10\n",
        "i = 0\n",
        "while i < layer:\n",
        "  print(\" \" * (layer - i - 1) + \"*\" * (i + 1) )\n",
        "  i = i + 1"
      ],
      "metadata": {
        "colab": {
          "base_uri": "https://localhost:8080/"
        },
        "id": "Bv261KGrK5Zz",
        "outputId": "f5db9b3c-4fba-4ba5-c503-cef30ffacf17"
      },
      "execution_count": null,
      "outputs": [
        {
          "output_type": "stream",
          "name": "stdout",
          "text": [
            "         *\n",
            "        **\n",
            "       ***\n",
            "      ****\n",
            "     *****\n",
            "    ******\n",
            "   *******\n",
            "  ********\n",
            " *********\n",
            "**********\n"
          ]
        }
      ]
    },
    {
      "cell_type": "code",
      "source": [
        "# ****\n",
        "# ***\n",
        "# ***\n",
        "# **\n",
        "# *\n",
        "left, right = \"*\", \" \"\n",
        "layer = 10\n",
        "i = 0\n",
        "while i < layer:\n",
        "  lcount = layer - i\n",
        "  rcount = i\n",
        "  print(left * lcount + right * rcount)\n",
        "  i = i + 1"
      ],
      "metadata": {
        "colab": {
          "base_uri": "https://localhost:8080/"
        },
        "id": "ACG9leDESpPu",
        "outputId": "3b5346eb-d432-404e-9be3-ec2a71941aab"
      },
      "execution_count": null,
      "outputs": [
        {
          "output_type": "stream",
          "name": "stdout",
          "text": [
            "**********\n",
            "********* \n",
            "********  \n",
            "*******   \n",
            "******    \n",
            "*****     \n",
            "****      \n",
            "***       \n",
            "**        \n",
            "*         \n"
          ]
        }
      ]
    },
    {
      "cell_type": "code",
      "source": [
        "left, middle, right = \" \", \"*\", \" \"\n",
        "layer = 4\n",
        "i = 0\n",
        "while i < layer:\n",
        "  lcount = i\n",
        "  mcount = (layer * 2 - 1) - 2 * i\n",
        "  rcount = i\n",
        "  print(left * lcount +\n",
        "     middle * mcount +\n",
        "     right * rcount)\n",
        "  i = i + 1"
      ],
      "metadata": {
        "id": "vs3jsc5KjM8k",
        "colab": {
          "base_uri": "https://localhost:8080/"
        },
        "outputId": "44565e11-795b-4073-cb5a-4babc8d7c155"
      },
      "execution_count": null,
      "outputs": [
        {
          "output_type": "stream",
          "name": "stdout",
          "text": [
            "*******\n",
            " ***** \n",
            "  ***  \n",
            "   *   \n"
          ]
        }
      ]
    }
  ]
}