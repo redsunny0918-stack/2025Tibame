{
  "nbformat": 4,
  "nbformat_minor": 0,
  "metadata": {
    "colab": {
      "provenance": [],
      "authorship_tag": "ABX9TyPteM2H/J7oJvGLGoDgfU+4",
      "include_colab_link": true
    },
    "kernelspec": {
      "name": "python3",
      "display_name": "Python 3"
    },
    "language_info": {
      "name": "python"
    }
  },
  "cells": [
    {
      "cell_type": "markdown",
      "metadata": {
        "id": "view-in-github",
        "colab_type": "text"
      },
      "source": [
        "<a href=\"https://colab.research.google.com/github/redsunny0918-stack/2025Tibame/blob/main/%E6%B8%85%E5%96%AE%E5%92%8C%E5%AD%97%E5%85%B8.ipynb\" target=\"_parent\"><img src=\"https://colab.research.google.com/assets/colab-badge.svg\" alt=\"Open In Colab\"/></a>"
      ]
    },
    {
      "cell_type": "code",
      "execution_count": null,
      "metadata": {
        "colab": {
          "base_uri": "https://localhost:8080/"
        },
        "id": "krqZHv7vdimJ",
        "outputId": "3d3a3983-f6fa-4caf-9267-4d0b4f79723b"
      },
      "outputs": [
        {
          "output_type": "stream",
          "name": "stdout",
          "text": [
            "310 90 30\n",
            "5\n",
            "True\n",
            "30\n",
            "90\n",
            "[50, 80]\n",
            "[50, 80, 60]\n",
            "[30, 50, 80]\n",
            "[50, 80, 60, 90]\n",
            "[30, 80]\n",
            "[30, 80, 90] [50, 60]\n",
            "[90, 80]\n",
            "[90, 80]\n",
            "[90, 60, 80, 50, 30]\n"
          ]
        }
      ],
      "source": [
        "scores = [30, 50, 80, 60, 90]\n",
        "\n",
        "print(sum(scores), max(scores), min(scores))\n",
        "print(len(scores))\n",
        "print(60 in scores)\n",
        "\n",
        "# 查詢操作: 查東西[key]\n",
        "print(scores[0])\n",
        "# print(scores[len(scores)-1])\n",
        "print(scores[-1])\n",
        "\n",
        "# 查詢一段\n",
        "print(scores[1:3])\n",
        "print(scores[1:-1])\n",
        "print(scores[ :3])\n",
        "print(scores[1: ])\n",
        "\n",
        "# 跳號\n",
        "# scores = [30, 50, 80, 60, 90]\n",
        "print(scores[0:4:2])\n",
        "print(scores[::2], scores[1::2])\n",
        "\n",
        "# 反向跳號(從右跳到左)\n",
        "print(scores[4:0:-2])\n",
        "print(scores[-1:0:-2])\n",
        "print(scores[::-1])"
      ]
    },
    {
      "cell_type": "code",
      "source": [
        "scores = [80, 60 ,90 ,20 ,100]\n",
        "\n",
        "i = 0\n",
        "count = 0\n",
        "while i < len(scores):\n",
        "  s = scores[i]\n",
        "  if s >= 60:\n",
        "    count = count + 1\n",
        "  i = i + 1\n",
        "print(count)\n",
        "\n",
        "# 以後如果是群集迴圈做事用for ... in\n",
        "count = 0\n",
        "for s in scores:\n",
        "  if s >= 60:\n",
        "    count = count + 1\n",
        "print(count)\n"
      ],
      "metadata": {
        "id": "65GHwgJU0iLt",
        "colab": {
          "base_uri": "https://localhost:8080/"
        },
        "outputId": "85881f75-7035-497d-9914-d7079e8c9608"
      },
      "execution_count": null,
      "outputs": [
        {
          "output_type": "stream",
          "name": "stdout",
          "text": [
            "4\n",
            "4\n"
          ]
        }
      ]
    },
    {
      "cell_type": "code",
      "source": [
        "#1+2+3...+10\n",
        "total = 0\n",
        "i = 0\n",
        "while i < 10:\n",
        "  total = total + (i + 1)\n",
        "  print(total)\n",
        "  i = i + 1\n",
        "print(total)\n",
        "\n",
        "total = 0\n",
        "for i in range(10):\n",
        "  total = total + (i + 1)\n",
        "print(total)\n",
        "\n"
      ],
      "metadata": {
        "id": "RiDg66a-66PY",
        "colab": {
          "base_uri": "https://localhost:8080/"
        },
        "outputId": "9ebd27db-ecad-4591-c708-3477eedd504f"
      },
      "execution_count": null,
      "outputs": [
        {
          "output_type": "stream",
          "name": "stdout",
          "text": [
            "1\n",
            "3\n",
            "6\n",
            "10\n",
            "15\n",
            "21\n",
            "28\n",
            "36\n",
            "45\n",
            "55\n",
            "55\n",
            "55\n"
          ]
        }
      ]
    },
    {
      "cell_type": "code",
      "source": [
        "person = {\n",
        "  \"name\":\"Elwing\",\n",
        "  \"height\":175\n",
        "}\n",
        "print(person)\n",
        "# 名稱 -> 字典[key]\n",
        "# print(height)\n",
        "print(person[\"name\"])\n",
        "print(person[\"height\"])\n",
        "# weight = 80 加到person中\n",
        "person[\"weight\"] = 80\n",
        "print(person)\n",
        "\n",
        "# 如果要增高5公分 height = height + 5\n",
        "person[\"height\"] = person[\"height\"] + 5\n",
        "print(person)\n",
        "\n",
        "del person[\"name\"]\n",
        "print(person)"
      ],
      "metadata": {
        "id": "aMKyM7vFE0o8",
        "colab": {
          "base_uri": "https://localhost:8080/"
        },
        "outputId": "0eb04ad7-c018-44c6-ecb0-504b0ebe4727"
      },
      "execution_count": null,
      "outputs": [
        {
          "output_type": "stream",
          "name": "stdout",
          "text": [
            "{'name': 'Elwing', 'height': 175}\n",
            "Elwing\n",
            "175\n",
            "{'name': 'Elwing', 'height': 175, 'weight': 80}\n",
            "{'name': 'Elwing', 'height': 180, 'weight': 80}\n",
            "{'height': 180, 'weight': 80}\n"
          ]
        }
      ]
    },
    {
      "cell_type": "markdown",
      "source": [
        "Chapter.4 JASON 格式"
      ],
      "metadata": {
        "id": "KfUCGapVK_D-"
      }
    },
    {
      "cell_type": "markdown",
      "source": [
        "Chapter.5 檔案讀寫"
      ],
      "metadata": {
        "id": "eWRjESOzVnqk"
      }
    },
    {
      "cell_type": "code",
      "source": [
        "f = open(\"a.txt\", \"w\", encoding=\"utf-8\")\n",
        "# 以前寫法: write(f, \"abc\")\n",
        "# 專屬功能寫法: f.write(\"abc\") 這邊因為只有檔案才能讀寫\n",
        "# 跳脫字元: \\n(換行) \\t(tab鍵)\n",
        "f.write(\"abc\\n\")\n",
        "f.write(\"def\")\n",
        "# 以前寫法: close(f)\n",
        "# 專屬功能寫法: f.close()\n",
        "f.close()\n",
        "\n",
        "f = open(\"清單和字典.ipynb\", \"r\", encoding=\"utf-8\")\n",
        "# 以前寫法: s = read(f)\n",
        "# 專屬功能寫法: s = f.read()\n",
        "s = f.read()\n",
        "f.close()\n",
        "\n",
        "print(s)"
      ],
      "metadata": {
        "id": "d7VBQqbPLFEt"
      },
      "execution_count": null,
      "outputs": []
    },
    {
      "cell_type": "markdown",
      "source": [
        "Chapter.6 Google動圖下載"
      ],
      "metadata": {
        "id": "qhlNgwgKySdw"
      }
    },
    {
      "cell_type": "code",
      "source": [
        "import os\n",
        "import json\n",
        "import urllib.request as req\n",
        "\n",
        "dirname = \"google\"\n",
        "# 如果資料夾不存在，就創造起來\n",
        "if not os.path.exists(dirname):\n",
        "  os.mkdir(dirname)\n",
        "\n",
        "url = \"https://www.google.com/doodles/json/2023/7?hl=zh-TW\"\n",
        "f = req.urlopen(url)\n",
        "s = f.read()\n",
        "pics = json.load(s)\n",
        "# pics = json.load(f)\n",
        "# print(type(pics))\n",
        "\n",
        "for p in pics:\n",
        "  # print(type(p))\n",
        "  print(p[\"tittle\"])\n",
        "  img = \"https:\" + p[\"high_res_url\"]\n",
        "  print(img)\n",
        "  # urlretrieve(圖片網址, 檔案儲存路徑)\n",
        "  fp = dirname + \"/\" + img.split(\"/\")[-1]\n",
        "  req.urlretrieve(img, fp)\n",
        "  print(\"-\" * 30)"
      ],
      "metadata": {
        "id": "kXQLm7L4ySJS"
      },
      "execution_count": null,
      "outputs": []
    },
    {
      "cell_type": "code",
      "source": [
        "# 字串專屬功能\n",
        "\"2022-12-31\".split(\"-\")\n"
      ],
      "metadata": {
        "colab": {
          "base_uri": "https://localhost:8080/"
        },
        "id": "ReKr5lXMirri",
        "outputId": "4de58516-0825-4ee6-b02a-eee33ddcbd27"
      },
      "execution_count": 1,
      "outputs": [
        {
          "output_type": "execute_result",
          "data": {
            "text/plain": [
              "['2022', '12', '31']"
            ]
          },
          "metadata": {},
          "execution_count": 1
        }
      ]
    }
  ]
}