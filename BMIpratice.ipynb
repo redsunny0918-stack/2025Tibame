{
  "nbformat": 4,
  "nbformat_minor": 0,
  "metadata": {
    "colab": {
      "provenance": [],
      "authorship_tag": "ABX9TyM/BWA9RcKI+u9mE+oAqjB+",
      "include_colab_link": true
    },
    "kernelspec": {
      "name": "python3",
      "display_name": "Python 3"
    },
    "language_info": {
      "name": "python"
    }
  },
  "cells": [
    {
      "cell_type": "markdown",
      "metadata": {
        "id": "view-in-github",
        "colab_type": "text"
      },
      "source": [
        "<a href=\"https://colab.research.google.com/github/redsunny0918-stack/2025Tibame/blob/main/BMIpratice.ipynb\" target=\"_parent\"><img src=\"https://colab.research.google.com/assets/colab-badge.svg\" alt=\"Open In Colab\"/></a>"
      ]
    },
    {
      "cell_type": "code",
      "execution_count": null,
      "metadata": {
        "id": "W4yLRkI8hrKW",
        "colab": {
          "base_uri": "https://localhost:8080/"
        },
        "outputId": "951e4c9d-037a-440d-ff04-acd912c8ad1e"
      },
      "outputs": [
        {
          "output_type": "stream",
          "name": "stdout",
          "text": [
            "請輸入體重70\n",
            "請輸入身高185\n",
            "你的體重是:70.0\n",
            "你的身高是:185.0\n",
            "你的BMI是:20.45288531775018\n",
            "正常\n",
            "!!!\n"
          ]
        }
      ],
      "source": [
        "# bmi: weight(kg) / height(m) ^ 2\n",
        "weight = float(input(\"請輸入體重\"))\n",
        "height = float(input(\"請輸入身高\"))\n",
        "bmi = weight / (height / 100) ** 2\n",
        "print(\"你的體重是:\" + str(weight))\n",
        "print(\"你的身高是:\" + str(height))\n",
        "print(\"你的BMI是:\" + str(bmi))\n",
        "\n",
        "# >, >=, <, <=, ==\n",
        "if bmi > 25:\n",
        "  print(\"過重\")\n",
        "elif bmi >18:\n",
        "  print(\"正常\")\n",
        "else:\n",
        "  print(\"過輕\")\n",
        "print(\"!!!\")\n"
      ]
    },
    {
      "cell_type": "code",
      "source": [],
      "metadata": {
        "id": "UnOu7HKsqAY7"
      },
      "execution_count": null,
      "outputs": []
    }
  ]
}