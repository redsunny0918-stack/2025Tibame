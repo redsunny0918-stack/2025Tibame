{
  "nbformat": 4,
  "nbformat_minor": 0,
  "metadata": {
    "colab": {
      "provenance": [],
      "authorship_tag": "ABX9TyOdwDoiSH3W0mtWO4o042yg",
      "include_colab_link": true
    },
    "kernelspec": {
      "name": "python3",
      "display_name": "Python 3"
    },
    "language_info": {
      "name": "python"
    }
  },
  "cells": [
    {
      "cell_type": "markdown",
      "metadata": {
        "id": "view-in-github",
        "colab_type": "text"
      },
      "source": [
        "<a href=\"https://colab.research.google.com/github/redsunny0918-stack/2025Tibame/blob/main/%E5%B0%88%E5%B1%AC%E5%8A%9F%E8%83%BD.ipynb\" target=\"_parent\"><img src=\"https://colab.research.google.com/assets/colab-badge.svg\" alt=\"Open In Colab\"/></a>"
      ]
    },
    {
      "cell_type": "markdown",
      "source": [
        "字串專屬功能"
      ],
      "metadata": {
        "id": "7ErVB_O5rUZd"
      }
    },
    {
      "cell_type": "code",
      "execution_count": null,
      "metadata": {
        "colab": {
          "base_uri": "https://localhost:8080/"
        },
        "id": "AOw2z3pbmLpB",
        "outputId": "4e2dac1c-8c67-47db-bd25-b3f5ce6fdce6"
      },
      "outputs": [
        {
          "output_type": "stream",
          "name": "stdout",
          "text": [
            "hellohellohellohellohello\n",
            "hellohellohellohellohello\n",
            "byebyebyebyebye\n",
            "88hellohellohello\n",
            "['2023', '12', '23']\n",
            "23/12/2023\n",
            "abc\n",
            "! abc \t \n",
            "\n",
            "!  \n",
            " abc\n"
          ]
        }
      ],
      "source": [
        "s = \"hello\" * 5\n",
        "print(s)\n",
        "\n",
        "b = s.replace(\"hello\", \"bye\")\n",
        "print(s)\n",
        "print(b)\n",
        "\n",
        "s = s.replace(\"hello\", \"8\", 2)\n",
        "print(s)\n",
        "\n",
        "d = \"2023-12-23\"\n",
        "ds = d.split(\"-\")\n",
        "print(ds)\n",
        "\n",
        "dj = \"/\".join(ds[::-1])\n",
        "print(dj)\n",
        "\n",
        "s = \" \\n abc \\t \\n\"\n",
        "print(s.strip())\n",
        "print(\"!\", s.lstrip())\n",
        "print(\"!\", s.rstrip())"
      ]
    },
    {
      "cell_type": "markdown",
      "source": [
        "清單專屬功能"
      ],
      "metadata": {
        "id": "tgut8YLarYO1"
      }
    },
    {
      "cell_type": "code",
      "source": [
        "scores = [50, 40, 60]\n",
        "\n",
        "b = scores.append(99)\n",
        "print(scores)\n",
        "print(b)\n",
        "# None例句\n",
        "print(print(print(4.2)))\n",
        "\n",
        "# 字串: print(s.replace(xxx, ooo))\n",
        "# 錯誤1.印出None, 但是888是有進去的\n",
        "# print(scores.append(888))\n",
        "\n",
        "# 字串: s = s.replace()\n",
        "# 致命錯誤2. 相當於scores = None\n",
        "# scores = scores.append(777)\n",
        "\n",
        "scores.append(1234)\n",
        "print(scores)"
      ],
      "metadata": {
        "colab": {
          "base_uri": "https://localhost:8080/"
        },
        "id": "7tB0CCqKrauQ",
        "outputId": "ac4845ce-472d-4174-dc89-e7b6b1a564f8"
      },
      "execution_count": null,
      "outputs": [
        {
          "output_type": "stream",
          "name": "stdout",
          "text": [
            "[50, 40, 60, 99]\n",
            "None\n",
            "4.2\n",
            "None\n",
            "None\n",
            "[50, 40, 60, 99, 1234]\n"
          ]
        }
      ]
    },
    {
      "cell_type": "markdown",
      "source": [
        "list專屬功能練習 三門問題"
      ],
      "metadata": {
        "id": "cO0auXkzzjZa"
      }
    },
    {
      "cell_type": "code",
      "source": [
        "import random\n",
        "\n",
        "total = 500000\n",
        "win, lose = 0, 0\n",
        "n = 4\n",
        "\n",
        "for i in range(total):\n",
        "  # 準備n個門[0和1] 0:沒有獎 1:中獎\n",
        "  doors = [0] * (n-1)\n",
        "  idx = random.randint(0, len(doors)-1)\n",
        "  # insert(插入的位置, 插入值)\n",
        "  doors.insert(idx, 1)\n",
        "  # print(\"準備的門:\", doors)\n",
        "  # (random)(X不會是選擇)\n",
        "  idx = random.randint(0, len(doors)-1)\n",
        "  # print(\"選到的門:\", doors[idx])\n",
        "  # pop(idx): 刪除那個idx pop(): 刪除最後一個\n",
        "  doors.pop(idx)\n",
        "  # print(\"剩下的門:\", doors)\n",
        "  # 在剩下的門裡面，主持人開一個沒有獎的 (X不會是選擇)\n",
        "  # remove(值): 從左到右找到第一個吻合的值並且移除\n",
        "  doors.remove(0)\n",
        "  # print(\"剩下的門:\", doors)\n",
        "  # 扣除剛剛那兩道以後，再選一個帶回家\n",
        "  idx = random.randint(0, len(doors)-1)\n",
        "  if doors[idx] == 1:\n",
        "      # print(\"中獎\")\n",
        "      win = win + 1\n",
        "  else:\n",
        "      # print(\"沒中獎\")\n",
        "      lose = lose + 1\n",
        "\n",
        "ratio = win / total\n",
        "print(\"贏的機率是:\", ratio)"
      ],
      "metadata": {
        "id": "kvmV1sxkzoSk",
        "colab": {
          "base_uri": "https://localhost:8080/"
        },
        "outputId": "de7f2915-2be8-41b0-a0c0-b48a57fcd1db"
      },
      "execution_count": 40,
      "outputs": [
        {
          "output_type": "stream",
          "name": "stdout",
          "text": [
            "贏的機率是: 0.375816\n"
          ]
        }
      ]
    }
  ]
}