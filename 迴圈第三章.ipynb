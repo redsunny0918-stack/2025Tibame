{
  "cells": [
    {
      "cell_type": "markdown",
      "metadata": {
        "id": "view-in-github",
        "colab_type": "text"
      },
      "source": [
        "<a href=\"https://colab.research.google.com/github/redsunny0918-stack/2025Tibame/blob/main/%E8%BF%B4%E5%9C%88%E7%AC%AC%E4%B8%89%E7%AB%A0.ipynb\" target=\"_parent\"><img src=\"https://colab.research.google.com/assets/colab-badge.svg\" alt=\"Open In Colab\"/></a>"
      ]
    },
    {
      "cell_type": "code",
      "execution_count": null,
      "metadata": {
        "colab": {
          "base_uri": "https://localhost:8080/"
        },
        "id": "bdh2VcmdHFnQ",
        "outputId": "d203644f-353d-4baf-f35e-23f931250c83"
      },
      "outputs": [
        {
          "name": "stdout",
          "output_type": "stream",
          "text": [
            "1\n",
            "0\n",
            "0\n",
            "0\n",
            "1\n",
            "0\n",
            "0\n",
            "1\n",
            "win\n"
          ]
        }
      ],
      "source": [
        "import random\n",
        "\n",
        "win, lose = 0, 0\n",
        "while win < 3 and lose < 3:\n",
        "  # -1: lose 0: even 1: win\n",
        "  result = random.randint(-1, 1)\n",
        "  print(result)\n",
        "  if result == -1:\n",
        "    lose = lose + 1\n",
        "  elif result == 1:\n",
        "    win = win + 1\n",
        "if win > lose:\n",
        "    print(\"win\")\n",
        "else:\n",
        "    print(\"lose\")\n",
        "\n",
        "\n"
      ]
    },
    {
      "cell_type": "code",
      "execution_count": null,
      "metadata": {
        "colab": {
          "base_uri": "https://localhost:8080/"
        },
        "id": "bbgnsJSaPyks",
        "outputId": "45824c8e-cf34-471d-91fd-3b66b6b9b8ee"
      },
      "outputs": [
        {
          "name": "stdout",
          "output_type": "stream",
          "text": [
            "0\n",
            "-1\n",
            "-1\n",
            "1\n",
            "-1\n",
            "lose\n"
          ]
        }
      ],
      "source": [
        "import random\n",
        "\n",
        "win, lose = 0, 0\n",
        "while True:\n",
        "  # -1: lose 0: even 1: win\n",
        "  result = random.randint(-1, 1)\n",
        "  print(result)\n",
        "  if result == -1:\n",
        "    lose = lose + 1\n",
        "  elif result == 1:\n",
        "    win = win + 1\n",
        "  # 判斷\n",
        "  if win == 3:\n",
        "    print(\"win\")\n",
        "    break\n",
        "  elif lose == 3:\n",
        "    print(\"lose\")\n",
        "    break"
      ]
    },
    {
      "cell_type": "code",
      "execution_count": null,
      "metadata": {
        "colab": {
          "base_uri": "https://localhost:8080/"
        },
        "id": "q7pHMNvRS5HD",
        "outputId": "fb1efdca-b59d-404c-a470-f6cb93a5252f"
      },
      "outputs": [
        {
          "name": "stdout",
          "output_type": "stream",
          "text": [
            "0.6\n"
          ]
        }
      ],
      "source": [
        "# 2 / 7 -> 0.2857142857\n",
        "# 如果除盡，提早停止 3 / 5\n",
        "a, b = 3, 5\n",
        "ans = \"0.\"\n",
        "i = 0\n",
        "while i < 10:\n",
        "  # 2 -> 20\n",
        "  a10 = a * 10\n",
        "  # 20 // 7\n",
        "  ans = ans + str(a10//b)\n",
        "  print(ans)\n",
        "  # 20 % 7\n",
        "  a = a10 % b\n",
        "  if a == 0:\n",
        "    break\n",
        "  i = i + 1"
      ]
    },
    {
      "cell_type": "code",
      "execution_count": null,
      "metadata": {
        "colab": {
          "background_save": true,
          "base_uri": "https://localhost:8080/"
        },
        "id": "7EmwGb0XV6vL",
        "outputId": "154276d3-6f22-4b58-f423-bed1aa895269"
      },
      "outputs": [
        {
          "name": "stdout",
          "output_type": "stream",
          "text": [
            "請輸入 1 - 100 :\n"
          ]
        }
      ],
      "source": [
        "import random\n",
        "low, high = 1, 100\n",
        "ans = random.randint(low+1, high-1)\n",
        "\n",
        "while True:\n",
        "  print(\"請輸入\", low, \"-\", high, \":\")\n",
        "  guess = int(input())\n",
        "  if guess <= low or guess >= high:\n",
        "    print(\"不合理的輸入\")\n",
        "  else:\n",
        "    if guess > ans:\n",
        "      print(\"猜大了\")\n",
        "    elif guess < ans:\n",
        "      print(\"猜小了\")\n",
        "    else :\n",
        "      print(\"猜中了\")\n",
        "      break"
      ]
    },
    {
      "cell_type": "code",
      "execution_count": null,
      "metadata": {
        "colab": {
          "base_uri": "https://localhost:8080/"
        },
        "id": "rCpeP4b8ctva",
        "outputId": "ab7b4bd8-cc9b-442e-e476-6d0e92e3a1ab"
      },
      "outputs": [
        {
          "name": "stdout",
          "output_type": "stream",
          "text": [
            "請輸入 1 - 100 :\n",
            "-1\n",
            "不合理的輸入\n",
            "請輸入 1 - 100 :\n",
            "50\n",
            "猜大了\n",
            "請輸入 1 - 100 :\n",
            "30\n",
            "猜小了\n",
            "請輸入 1 - 100 :\n",
            "40\n",
            "猜小了\n",
            "請輸入 1 - 100 :\n",
            "46\n",
            "猜大了\n",
            "請輸入 1 - 100 :\n",
            "45\n",
            "猜大了\n",
            "請輸入 1 - 100 :\n",
            "43\n",
            "猜中了\n"
          ]
        }
      ],
      "source": [
        "import random\n",
        "low, high = 1, 100\n",
        "ans = random.randint(low+1, high-1)\n",
        "\n",
        "while True:\n",
        "  while True:\n",
        "    print(\"請輸入\", low, \"-\", high, \":\")\n",
        "    guess = int(input())\n",
        "    if low < guess < high:\n",
        "      break\n",
        "    else:\n",
        "      print(\"不合理的輸入\")\n",
        "  if guess > ans:\n",
        "    print(\"猜大了\")\n",
        "  elif guess < ans:\n",
        "    print(\"猜小了\")\n",
        "  else:\n",
        "    print(\"猜中了\")\n",
        "    break"
      ]
    }
  ],
  "metadata": {
    "colab": {
      "provenance": [],
      "authorship_tag": "ABX9TyNkto5k1DOSC10NFrb+PFY/",
      "include_colab_link": true
    },
    "kernelspec": {
      "display_name": "Python 3",
      "name": "python3"
    },
    "language_info": {
      "name": "python"
    }
  },
  "nbformat": 4,
  "nbformat_minor": 0
}