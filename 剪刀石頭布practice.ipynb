{
  "nbformat": 4,
  "nbformat_minor": 0,
  "metadata": {
    "colab": {
      "provenance": [],
      "authorship_tag": "ABX9TyPQ0aX/y8IaemDFPlzVcqYV",
      "include_colab_link": true
    },
    "kernelspec": {
      "name": "python3",
      "display_name": "Python 3"
    },
    "language_info": {
      "name": "python"
    }
  },
  "cells": [
    {
      "cell_type": "markdown",
      "metadata": {
        "id": "view-in-github",
        "colab_type": "text"
      },
      "source": [
        "<a href=\"https://colab.research.google.com/github/redsunny0918-stack/2025Tibame/blob/main/%E5%89%AA%E5%88%80%E7%9F%B3%E9%A0%AD%E5%B8%83practice.ipynb\" target=\"_parent\"><img src=\"https://colab.research.google.com/assets/colab-badge.svg\" alt=\"Open In Colab\"/></a>"
      ]
    },
    {
      "cell_type": "code",
      "execution_count": null,
      "metadata": {
        "id": "Hc5zIAL7qLbp"
      },
      "outputs": [],
      "source": [
        "import random\n",
        "\n",
        "my = int(input(\"請輸入 0.剪刀 1.石頭 2.布\"))\n",
        "com = random.randint(0, 2)\n",
        "trans = [\"剪刀\", \"石頭\", \"布\"]\n",
        "print(\"我出的:\", trans[my])\n",
        "print(\"電腦出的:\", trans[com])\n",
        "\n",
        "if my == (com +1) % 3:\n",
        "  print(\"我贏\")\n",
        "elif com == (my +1) % 3:\n",
        "  print(\"我輸\")\n",
        "else:\n",
        "  print('平手')"
      ]
    },
    {
      "cell_type": "code",
      "source": [
        "import random\n",
        "\n",
        "my = int(input(\"請輸入 0.蟲 1.雞 2.老虎 3.棒子\"))\n",
        "com = random.randint(0, 3)\n",
        "trans = [\"蟲\", \"雞\", \"老虎\", \"棒子\"]\n",
        "print(\"我出的:\", trans[my])\n",
        "print(\"電腦出的:\", trans[com])\n",
        "\n",
        "if my == (com + 1) % 4:\n",
        "  print(\"我贏\")\n",
        "elif com == (my + 1) % 4:\n",
        "  print(\"我輸\")\n",
        "else:\n",
        "  print('平手')"
      ],
      "metadata": {
        "id": "Zlaqzfvh1web"
      },
      "execution_count": null,
      "outputs": []
    }
  ]
}