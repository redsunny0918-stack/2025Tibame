{
  "nbformat": 4,
  "nbformat_minor": 0,
  "metadata": {
    "colab": {
      "provenance": [],
      "authorship_tag": "ABX9TyPaxO4uK0PUoNx+m9ZJQdD0",
      "include_colab_link": true
    },
    "kernelspec": {
      "name": "python3",
      "display_name": "Python 3"
    },
    "language_info": {
      "name": "python"
    }
  },
  "cells": [
    {
      "cell_type": "markdown",
      "metadata": {
        "id": "view-in-github",
        "colab_type": "text"
      },
      "source": [
        "<a href=\"https://colab.research.google.com/github/redsunny0918-stack/2025Tibame/blob/main/%E5%87%BD%E7%A4%BA%E5%AE%9A%E7%BE%A9.ipynb\" target=\"_parent\"><img src=\"https://colab.research.google.com/assets/colab-badge.svg\" alt=\"Open In Colab\"/></a>"
      ]
    },
    {
      "cell_type": "markdown",
      "source": [
        "函示定義"
      ],
      "metadata": {
        "id": "p67TvXAyLZQ7"
      }
    },
    {
      "cell_type": "code",
      "execution_count": 20,
      "metadata": {
        "colab": {
          "base_uri": "https://localhost:8080/"
        },
        "id": "FFlvLJVQGfVE",
        "outputId": "c4420fb2-96ec-4c3f-e82d-83e6c30ca5d7"
      },
      "outputs": [
        {
          "output_type": "stream",
          "name": "stdout",
          "text": [
            "26.12\n"
          ]
        }
      ],
      "source": [
        "weight = 80\n",
        "height = 175\n",
        "\n",
        "# 定義參數: 預先定義一個參數代號/名稱\n",
        "# 定義回傳值: return, 你沒有寫return 就相當於寫 return None\n",
        "def calculate_bmi(w, h, d=2):\n",
        "  bmi = w / (h / 100) ** 2\n",
        "  return round(bmi, d)\n",
        "\n",
        "print(calculate_bmi(weight, height, 4))"
      ]
    },
    {
      "cell_type": "markdown",
      "source": [
        "物件導向:自定型態"
      ],
      "metadata": {
        "id": "r70pMux5LeTm"
      }
    },
    {
      "cell_type": "code",
      "source": [
        "# 物件導向:自定型態\n",
        "class Person:\n",
        "\n",
        "  def set_data(self, w, h):\n",
        "    self.weight = w\n",
        "    self.height = h\n",
        "\n",
        "  def calculate_bmi(self, d=2):\n",
        "    bmi = self.weight / (self.height / 100) ** 2\n",
        "    return round(bmi, d)\n",
        "\n",
        "# 一個型態可以擁有的兩種東西\n",
        "# 1. 專屬功能: 人.吃飯()\n",
        "# 2. 專屬值: 人.身高\n",
        "p1 = Person()\n",
        "p1.set_data(80, 175)\n",
        "print(p1.calculate_bmi(d=4))"
      ],
      "metadata": {
        "colab": {
          "base_uri": "https://localhost:8080/"
        },
        "id": "ilEKT8R-Lg6i",
        "outputId": "961f50b5-6b14-4886-8493-02ee7616c1cb"
      },
      "execution_count": 27,
      "outputs": [
        {
          "output_type": "stream",
          "name": "stdout",
          "text": [
            "26.1224\n"
          ]
        }
      ]
    },
    {
      "cell_type": "code",
      "source": [
        "# 物件導向:自定型態\n",
        "class Person:\n",
        "\n",
        "  def __init__(self, w, h):\n",
        "    self.weight = w\n",
        "    self.height = h\n",
        "\n",
        "  def calculate_bmi(self, d=2):\n",
        "    bmi = self.weight / (self.height / 100) ** 2\n",
        "    return round(bmi, d)\n",
        "\n",
        "# 一個型態可以擁有的兩種東西\n",
        "# 1. 專屬功能: 人.吃飯()\n",
        "# 2. 專屬值: 人.身高\n",
        "p1 = Person(80, 175)\n",
        "print(p1.calculate_bmi(d=4))"
      ],
      "metadata": {
        "colab": {
          "base_uri": "https://localhost:8080/"
        },
        "id": "RWRJyqihUHWu",
        "outputId": "633fb1d3-5ebb-4279-a9f4-c5b7b6b9d471"
      },
      "execution_count": 28,
      "outputs": [
        {
          "output_type": "stream",
          "name": "stdout",
          "text": [
            "26.1224\n"
          ]
        }
      ]
    }
  ]
}